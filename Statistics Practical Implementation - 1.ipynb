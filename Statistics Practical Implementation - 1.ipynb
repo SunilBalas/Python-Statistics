{
 "cells": [
  {
   "cell_type": "markdown",
   "id": "f161d697",
   "metadata": {},
   "source": [
    "# Measure of Central Tendency"
   ]
  },
  {
   "cell_type": "markdown",
   "id": "4d676cbc",
   "metadata": {},
   "source": [
    "1. Mean\n",
    "2. Median\n",
    "3. Mode"
   ]
  },
  {
   "cell_type": "markdown",
   "id": "c0b4bedf",
   "metadata": {},
   "source": [
    "### Import required libraries and modules"
   ]
  },
  {
   "cell_type": "code",
   "execution_count": 1,
   "id": "4749d481",
   "metadata": {},
   "outputs": [],
   "source": [
    "import numpy as np\n",
    "import statistics as stats\n",
    "import seaborn as sns\n",
    "import math"
   ]
  },
  {
   "cell_type": "code",
   "execution_count": 2,
   "id": "969293f1",
   "metadata": {},
   "outputs": [],
   "source": [
    "ages = [24, 34, 54, 14, 32, 26, 17, 43, 33, 47, 20, 26, 22, 47, 59, 36, 47]"
   ]
  },
  {
   "cell_type": "code",
   "execution_count": 3,
   "id": "ba254598",
   "metadata": {},
   "outputs": [
    {
     "data": {
      "text/plain": [
       "34.1764705882353"
      ]
     },
     "execution_count": 3,
     "metadata": {},
     "output_type": "execute_result"
    }
   ],
   "source": [
    "np.mean(ages)"
   ]
  },
  {
   "cell_type": "code",
   "execution_count": 4,
   "id": "ca52c6f3",
   "metadata": {},
   "outputs": [
    {
     "data": {
      "text/plain": [
       "33.0"
      ]
     },
     "execution_count": 4,
     "metadata": {},
     "output_type": "execute_result"
    }
   ],
   "source": [
    "np.median(ages)"
   ]
  },
  {
   "cell_type": "code",
   "execution_count": 5,
   "id": "7616eee8",
   "metadata": {
    "scrolled": true
   },
   "outputs": [
    {
     "data": {
      "text/plain": [
       "47"
      ]
     },
     "execution_count": 5,
     "metadata": {},
     "output_type": "execute_result"
    }
   ],
   "source": [
    "stats.mode(ages)"
   ]
  },
  {
   "cell_type": "code",
   "execution_count": 6,
   "id": "4fa62bc5",
   "metadata": {},
   "outputs": [],
   "source": [
    "ages = [24, 34, 54, 14, 32, 26, 17, 43, 33, 47, 20, 26, 22, 47, 59, 36, 47, 120]"
   ]
  },
  {
   "cell_type": "code",
   "execution_count": 7,
   "id": "0848f714",
   "metadata": {},
   "outputs": [
    {
     "data": {
      "text/plain": [
       "38.94444444444444"
      ]
     },
     "execution_count": 7,
     "metadata": {},
     "output_type": "execute_result"
    }
   ],
   "source": [
    "stats.mean(ages)"
   ]
  },
  {
   "cell_type": "code",
   "execution_count": 8,
   "id": "7cb09570",
   "metadata": {},
   "outputs": [
    {
     "data": {
      "text/plain": [
       "33.5"
      ]
     },
     "execution_count": 8,
     "metadata": {},
     "output_type": "execute_result"
    }
   ],
   "source": [
    "stats.median(ages)"
   ]
  },
  {
   "cell_type": "markdown",
   "id": "84a4599d",
   "metadata": {},
   "source": [
    "Observations,\n",
    "   - As shown above, if we add one big value to our data then mean is changed significantly but median is not changed that much of it."
   ]
  },
  {
   "cell_type": "code",
   "execution_count": 9,
   "id": "c6a252fc",
   "metadata": {},
   "outputs": [
    {
     "data": {
      "text/plain": [
       "47"
      ]
     },
     "execution_count": 9,
     "metadata": {},
     "output_type": "execute_result"
    }
   ],
   "source": [
    "stats.mode(ages)"
   ]
  },
  {
   "cell_type": "markdown",
   "id": "d13529f4",
   "metadata": {},
   "source": [
    "   - Mode is more useful when working with categorical features"
   ]
  },
  {
   "cell_type": "markdown",
   "id": "49311711",
   "metadata": {},
   "source": [
    "## Outliers"
   ]
  },
  {
   "cell_type": "code",
   "execution_count": 10,
   "id": "917f73ad",
   "metadata": {},
   "outputs": [
    {
     "data": {
      "text/plain": [
       "<Axes: >"
      ]
     },
     "execution_count": 10,
     "metadata": {},
     "output_type": "execute_result"
    },
    {
     "data": {
      "image/png": "[encoded data removed]",
      "text/plain": [
       "<Figure size 640x480 with 1 Axes>"
      ]
     },
     "metadata": {},
     "output_type": "display_data"
    }
   ],
   "source": [
    "sns.boxplot(ages, orient='h')"
   ]
  },
  {
   "cell_type": "markdown",
   "id": "a26c556c",
   "metadata": {},
   "source": [
    "## 5 Number Summary"
   ]
  },
  {
   "cell_type": "markdown",
   "id": "da13f2ac",
   "metadata": {},
   "source": [
    "1. Minimum\n",
    "2. 25 Percentile (Q1)\n",
    "3. Median\n",
    "4. 75 Percentile (Q3)\n",
    "5. Maximum"
   ]
  },
  {
   "cell_type": "code",
   "execution_count": 11,
   "id": "e4479388",
   "metadata": {},
   "outputs": [],
   "source": [
    "q1, q3 = np.percentile(ages, [25, 75])"
   ]
  },
  {
   "cell_type": "code",
   "execution_count": 12,
   "id": "e1d51d56",
   "metadata": {},
   "outputs": [
    {
     "data": {
      "text/plain": [
       "(24.5, 47.0)"
      ]
     },
     "execution_count": 12,
     "metadata": {},
     "output_type": "execute_result"
    }
   ],
   "source": [
    "q1, q3"
   ]
  },
  {
   "cell_type": "code",
   "execution_count": 13,
   "id": "035d9445",
   "metadata": {},
   "outputs": [
    {
     "data": {
      "text/plain": [
       "(-9.25, 80.75)"
      ]
     },
     "execution_count": 13,
     "metadata": {},
     "output_type": "execute_result"
    }
   ],
   "source": [
    "# Inter Quartile Range\n",
    "\n",
    "IQR = q3 - q1\n",
    "\n",
    "lower_fence = q1 - 1.5 * (IQR)\n",
    "higher_fence = q3 + 1.5 * (IQR)\n",
    "\n",
    "lower_fence, higher_fence"
   ]
  },
  {
   "cell_type": "markdown",
   "id": "bbfcab2c",
   "metadata": {},
   "source": [
    "# Measure of Dispersion"
   ]
  },
  {
   "cell_type": "markdown",
   "id": "e65947f9",
   "metadata": {},
   "source": [
    "1. Variance\n",
    "2. Standard Deviation"
   ]
  },
  {
   "cell_type": "code",
   "execution_count": 14,
   "id": "fbd91424",
   "metadata": {},
   "outputs": [
    {
     "data": {
      "text/plain": [
       "578.5261437908497"
      ]
     },
     "execution_count": 14,
     "metadata": {},
     "output_type": "execute_result"
    }
   ],
   "source": [
    "# Calculates the sample variance\n",
    "stats.variance(ages)"
   ]
  },
  {
   "cell_type": "code",
   "execution_count": 15,
   "id": "ac24af44",
   "metadata": {},
   "outputs": [
    {
     "data": {
      "text/plain": [
       "546.3858024691358"
      ]
     },
     "execution_count": 15,
     "metadata": {},
     "output_type": "execute_result"
    }
   ],
   "source": [
    "# Calculates the polpulation variance\n",
    "np.var(ages)"
   ]
  },
  {
   "cell_type": "code",
   "execution_count": 16,
   "id": "34987bf6",
   "metadata": {},
   "outputs": [],
   "source": [
    "def variance(data, dof=0):\n",
    "    n = len(ages)\n",
    "    mean = sum(data)/n\n",
    "    deviation = [(x - mean) ** 2 for x in data]\n",
    "    variance = sum(deviation)/(n-dof)\n",
    "    return variance"
   ]
  },
  {
   "cell_type": "code",
   "execution_count": 17,
   "id": "adb92ef1",
   "metadata": {},
   "outputs": [
    {
     "data": {
      "text/plain": [
       "546.3858024691358"
      ]
     },
     "execution_count": 17,
     "metadata": {},
     "output_type": "execute_result"
    }
   ],
   "source": [
    "variance(ages)"
   ]
  },
  {
   "cell_type": "code",
   "execution_count": 18,
   "id": "ff8ef5b3",
   "metadata": {},
   "outputs": [
    {
     "data": {
      "text/plain": [
       "578.5261437908497"
      ]
     },
     "execution_count": 18,
     "metadata": {},
     "output_type": "execute_result"
    }
   ],
   "source": [
    "variance(ages, 1)"
   ]
  },
  {
   "cell_type": "code",
   "execution_count": 19,
   "id": "e9ac7865",
   "metadata": {},
   "outputs": [
    {
     "data": {
      "text/plain": [
       "546.3858024691358"
      ]
     },
     "execution_count": 19,
     "metadata": {},
     "output_type": "execute_result"
    }
   ],
   "source": [
    "stats.pvariance(ages) # Population variance"
   ]
  },
  {
   "cell_type": "code",
   "execution_count": 20,
   "id": "ba4b298d",
   "metadata": {},
   "outputs": [
    {
     "data": {
      "text/plain": [
       "23.37489684403197"
      ]
     },
     "execution_count": 20,
     "metadata": {},
     "output_type": "execute_result"
    }
   ],
   "source": [
    "math.sqrt(stats.pvariance(ages)) # Standard Deviation"
   ]
  },
  {
   "cell_type": "code",
   "execution_count": null,
   "id": "1ebb6a76",
   "metadata": {},
   "outputs": [],
   "source": []
  }
 ],
 "metadata": {
  "kernelspec": {
   "display_name": "Python 3 (ipykernel)",
   "language": "python",
   "name": "python3"
  },
  "language_info": {
   "codemirror_mode": {
    "name": "ipython",
    "version": 3
   },
   "file_extension": ".py",
   "mimetype": "text/x-python",
   "name": "python",
   "nbconvert_exporter": "python",
   "pygments_lexer": "ipython3",
   "version": "3.11.4"
  }
 },
 "nbformat": 4,
 "nbformat_minor": 5
}
